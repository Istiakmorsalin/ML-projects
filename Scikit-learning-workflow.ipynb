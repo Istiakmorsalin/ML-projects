{
 "cells": [
  {
   "cell_type": "code",
   "execution_count": 4,
   "id": "8c45f9ab-fa40-44ed-b0a4-6e899daefdac",
   "metadata": {},
   "outputs": [],
   "source": [
    "import pandas as pd  \n",
    "import matplotlib as plt  \n",
    "import numpy as np"
   ]
  },
  {
   "cell_type": "markdown",
   "id": "95c0643a-73ec-4f2f-9c9f-3a3673a45fad",
   "metadata": {},
   "source": [
    "## Getting our data ready to be used with machine learning  \n",
    "\n",
    "Three main things we have to do:  \n",
    "\n",
    "1. Split the data into features and labels( usually `X`and `y`) \n",
    "2. Filling or imputing or disregarding missing values  \n",
    "3. Feature Encoding: Non Numerical values to Numerical values"
   ]
  },
  {
   "cell_type": "code",
   "execution_count": null,
   "id": "f850b06b-b2ed-43d9-89de-1e5e6d8bf65d",
   "metadata": {},
   "outputs": [],
   "source": [
    "car_sales = pd.read_csv('car-sales-extended.csb')"
   ]
  }
 ],
 "metadata": {
  "kernelspec": {
   "display_name": "Python 3 (ipykernel)",
   "language": "python",
   "name": "python3"
  },
  "language_info": {
   "codemirror_mode": {
    "name": "ipython",
    "version": 3
   },
   "file_extension": ".py",
   "mimetype": "text/x-python",
   "name": "python",
   "nbconvert_exporter": "python",
   "pygments_lexer": "ipython3",
   "version": "3.12.3"
  }
 },
 "nbformat": 4,
 "nbformat_minor": 5
}
